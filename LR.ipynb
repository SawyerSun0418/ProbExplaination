{
 "cells": [
  {
   "cell_type": "code",
   "execution_count": 13,
   "id": "dca927b5",
   "metadata": {},
   "outputs": [],
   "source": [
    "from sklearn import datasets\n",
    "import numpy as np\n",
    "iris = datasets.load_iris()\n",
    "X = iris.data[:, :4]\n",
    "y = iris.target"
   ]
  },
  {
   "cell_type": "code",
   "execution_count": 14,
   "id": "a1f5db4c",
   "metadata": {},
   "outputs": [],
   "source": [
    "from sklearn.model_selection import train_test_split\n",
    "X_train, X_test, y_train, y_test = train_test_split(X, y, test_size = 0.25, random_state = 5)"
   ]
  },
  {
   "cell_type": "code",
   "execution_count": 15,
   "id": "1fd20f63",
   "metadata": {},
   "outputs": [],
   "source": [
    "from sklearn.preprocessing import StandardScaler\n",
    "sc = StandardScaler()\n",
    "X_train = sc.fit_transform(X_train)\n",
    "X_test = sc.transform(X_test)"
   ]
  },
  {
   "cell_type": "code",
   "execution_count": 16,
   "id": "f511c57b",
   "metadata": {},
   "outputs": [
    {
     "data": {
      "text/plain": [
       "LogisticRegression(random_state=0)"
      ]
     },
     "execution_count": 16,
     "metadata": {},
     "output_type": "execute_result"
    }
   ],
   "source": [
    "from sklearn.linear_model import LogisticRegression\n",
    "classifier = LogisticRegression(random_state = 0, solver='lbfgs', multi_class='auto')\n",
    "classifier.fit(X_train, y_train)"
   ]
  },
  {
   "cell_type": "code",
   "execution_count": 17,
   "id": "459950ee",
   "metadata": {},
   "outputs": [
    {
     "name": "stdout",
     "output_type": "stream",
     "text": [
      "y_test     | y_pred     | Setosa(%)  | versicolor(%) | virginica(%)\n",
      "-----------------------------------------------------------------\n",
      "1          | 1          | 0.04       | 0.92          | 0.05      \n",
      "2          | 1          | 0.0        | 0.52          | 0.48      \n",
      "2          | 2          | 0.0        | 0.02          | 0.98      \n",
      "0          | 0          | 0.99       | 0.01          | 0.0       \n",
      "2          | 2          | 0.0        | 0.01          | 0.99      \n",
      "1          | 1          | 0.15       | 0.84          | 0.01      \n",
      "0          | 0          | 0.93       | 0.07          | 0.0       \n",
      "1          | 2          | 0.02       | 0.34          | 0.64      \n",
      "0          | 0          | 0.9        | 0.1           | 0.0       \n",
      "1          | 1          | 0.07       | 0.65          | 0.28      \n",
      "1          | 1          | 0.05       | 0.68          | 0.27      \n",
      "2          | 1          | 0.0        | 0.6           | 0.4       \n",
      "2          | 2          | 0.0        | 0.05          | 0.95      \n",
      "2          | 2          | 0.0        | 0.12          | 0.88      \n",
      "0          | 0          | 0.97       | 0.03          | 0.0       \n",
      "0          | 0          | 0.93       | 0.07          | 0.0       \n",
      "2          | 2          | 0.0        | 0.32          | 0.68      \n",
      "2          | 2          | 0.0        | 0.1           | 0.9       \n",
      "0          | 0          | 0.99       | 0.01          | 0.0       \n",
      "0          | 0          | 0.95       | 0.05          | 0.0       \n",
      "1          | 1          | 0.02       | 0.91          | 0.07      \n",
      "2          | 2          | 0.0        | 0.05          | 0.95      \n",
      "0          | 0          | 0.98       | 0.02          | 0.0       \n",
      "1          | 1          | 0.0        | 0.63          | 0.36      \n",
      "1          | 1          | 0.1        | 0.82          | 0.08      \n",
      "2          | 2          | 0.0        | 0.03          | 0.97      \n",
      "1          | 1          | 0.01       | 0.9           | 0.08      \n",
      "1          | 1          | 0.06       | 0.85          | 0.09      \n",
      "1          | 1          | 0.01       | 0.77          | 0.21      \n",
      "2          | 2          | 0.0        | 0.03          | 0.97      \n",
      "0          | 0          | 0.97       | 0.03          | 0.0       \n",
      "1          | 1          | 0.01       | 0.89          | 0.1       \n",
      "1          | 1          | 0.05       | 0.93          | 0.01      \n",
      "0          | 0          | 0.98       | 0.02          | 0.0       \n",
      "1          | 1          | 0.01       | 0.85          | 0.14      \n",
      "0          | 0          | 0.97       | 0.03          | 0.0       \n",
      "0          | 0          | 0.97       | 0.03          | 0.0       \n",
      "2          | 2          | 0.0        | 0.02          | 0.98      \n",
      "-----------------------------------------------------------------\n",
      "\n"
     ]
    }
   ],
   "source": [
    "# Predicting the Test set results\n",
    "y_pred = classifier.predict(X_test)\n",
    "# Predict probabilities\n",
    "probs_y=classifier.predict_proba(X_test)\n",
    "### Print results \n",
    "probs_y = np.round(probs_y, 2)\n",
    "res = \"{:<10} | {:<10} | {:<10} | {:<13} | {:<5}\".format(\"y_test\", \"y_pred\", \"Setosa(%)\", \"versicolor(%)\", \"virginica(%)\\n\")\n",
    "res += \"-\"*65+\"\\n\"\n",
    "res += \"\\n\".join(\"{:<10} | {:<10} | {:<10} | {:<13} | {:<10}\".format(x, y, a, b, c) for x, y, a, b, c in zip(y_test, y_pred, probs_y[:,0], probs_y[:,1], probs_y[:,2]))\n",
    "res += \"\\n\"+\"-\"*65+\"\\n\"\n",
    "print(res)"
   ]
  },
  {
   "cell_type": "code",
   "execution_count": null,
   "id": "48d4ba11",
   "metadata": {},
   "outputs": [],
   "source": []
  }
 ],
 "metadata": {
  "kernelspec": {
   "display_name": "Python 3 (ipykernel)",
   "language": "python",
   "name": "python3"
  },
  "language_info": {
   "codemirror_mode": {
    "name": "ipython",
    "version": 3
   },
   "file_extension": ".py",
   "mimetype": "text/x-python",
   "name": "python",
   "nbconvert_exporter": "python",
   "pygments_lexer": "ipython3",
   "version": "3.9.7"
  }
 },
 "nbformat": 4,
 "nbformat_minor": 5
}
